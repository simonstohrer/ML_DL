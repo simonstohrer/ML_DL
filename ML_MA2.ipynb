{
 "cells": [
  {
   "cell_type": "markdown",
   "metadata": {},
   "source": [
    "# Question 3  - Neural Networks\n",
    "The following is a network (refer to Figure 3) of linear neurons, that is, neurons whose output is identical to their net input. The numbers in the circles indicate the outcome of a neuron, and the numbers at connections indicate the value of the corresponding weight."
   ]
  },
  {
   "cell_type": "code",
   "execution_count": 2,
   "metadata": {},
   "outputs": [],
   "source": [
    "# We create a set of functions to do the calculation of the simple neural network\n",
    "\n",
    "def hiddenlayer(input1, input2):\n",
    "    '''This function calculates the output of the hidden layer based on the weights\n",
    "    connected to the input layer and the input values. The weights are hardcoded in the function \n",
    "    as they do not change in this example. The function returns the output of the hidden layer'''\n",
    "    h1 = -1*input1 + 0*input2\n",
    "    h2 = 2*input1 + 1*input2\n",
    "    h3 = -2*input1 + 1*input2\n",
    "\n",
    "    return h1, h2, h3\n",
    "\n",
    "def outputlayer(h1, h2, h3):\n",
    "    '''This function calculates the output of the output layer based on the weights\n",
    "    connected to the hidden layer and the neurons in the hidden layer. The weights are hardcoded in the function \n",
    "    as they do not change in this example. The function returns the value of the output neurons'''\n",
    "    o1 = 2*h1 - 0.5*h2 + 1*h3\n",
    "    o2 = -2*h1 + 1*h2 + 0.5*h3\n",
    "\n",
    "    return o1, o2\n",
    "\n",
    "def neuralnetwork(input1, input2):\n",
    "    '''This function calls the hiddenlayer and outputlayer functions to calculate the output of the neural network in two steps.'''\n",
    "    h1, h2, h3 = hiddenlayer(input1, input2)\n",
    "    print(f'h1: {h1}, h2: {h2}, h3: {h3}')\n",
    "    o1, o2 = outputlayer(h1, h2, h3)\n",
    "    print(f'o1: {o1}, o2: {o2}')\n",
    "    return o1, o2\n"
   ]
  },
  {
   "cell_type": "markdown",
   "metadata": {},
   "source": [
    "![](NN_0.png)"
   ]
  },
  {
   "cell_type": "markdown",
   "metadata": {},
   "source": [
    "1. Compute the output of the hidden layer and the output-layer neurons for the given input (0.5, 1) and enter those values into the corresponding circles."
   ]
  },
  {
   "cell_type": "code",
   "execution_count": 3,
   "metadata": {},
   "outputs": [
    {
     "name": "stdout",
     "output_type": "stream",
     "text": [
      "h1: -0.5, h2: 2.0, h3: 0.0\n",
      "o1: -2.0, o2: 3.0\n"
     ]
    },
    {
     "data": {
      "text/plain": [
       "(-2.0, 3.0)"
      ]
     },
     "execution_count": 3,
     "metadata": {},
     "output_type": "execute_result"
    }
   ],
   "source": [
    "neuralnetwork(0.5,1)"
   ]
  },
  {
   "cell_type": "markdown",
   "metadata": {},
   "source": [
    "![](NN_1.png)"
   ]
  },
  {
   "cell_type": "markdown",
   "metadata": {},
   "source": [
    "2. What is the network output for the input (1, 2) (i.e., the left input neuron having the value one and the right one having the value 2)? Do you have to do all the network computations once again to answer this question? Explain why you do or do not have to do this. "
   ]
  },
  {
   "cell_type": "code",
   "execution_count": 4,
   "metadata": {},
   "outputs": [
    {
     "name": "stdout",
     "output_type": "stream",
     "text": [
      "h1: -1, h2: 4, h3: 0\n",
      "o1: -4.0, o2: 6.0\n"
     ]
    },
    {
     "data": {
      "text/plain": [
       "(-4.0, 6.0)"
      ]
     },
     "execution_count": 4,
     "metadata": {},
     "output_type": "execute_result"
    }
   ],
   "source": [
    "neuralnetwork(1,2)"
   ]
  },
  {
   "cell_type": "markdown",
   "metadata": {},
   "source": [
    "![](NN_2.png)"
   ]
  },
  {
   "cell_type": "markdown",
   "metadata": {},
   "source": [
    "Yes all of the calculation have to be redone as both input values changed which will lead to different values in the hidden layer and therefore change the computations that have to be done in the output layer. "
   ]
  }
 ],
 "metadata": {
  "kernelspec": {
   "display_name": "base",
   "language": "python",
   "name": "python3"
  },
  "language_info": {
   "codemirror_mode": {
    "name": "ipython",
    "version": 3
   },
   "file_extension": ".py",
   "mimetype": "text/x-python",
   "name": "python",
   "nbconvert_exporter": "python",
   "pygments_lexer": "ipython3",
   "version": "3.11.5"
  }
 },
 "nbformat": 4,
 "nbformat_minor": 2
}
