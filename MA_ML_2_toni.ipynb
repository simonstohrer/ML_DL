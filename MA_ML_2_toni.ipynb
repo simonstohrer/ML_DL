{
 "cells": [
  {
   "cell_type": "markdown",
   "metadata": {},
   "source": [
    "## Mandatory Assignment 2\n",
    "### Machine Learning \n",
    "\n",
    "Antonia Strobl - 167298\n",
    "Nicola Friedrich - 167278\n",
    "Johanna Daniel - 167680"
   ]
  },
  {
   "cell_type": "markdown",
   "metadata": {},
   "source": [
    "Question 1\n",
    "\n",
    "Load relevant libraries, load and explore the data"
   ]
  },
  {
   "cell_type": "code",
   "execution_count": 23,
   "metadata": {},
   "outputs": [],
   "source": [
    "import pandas as pd\n",
    "import matplotlib.pyplot as plt\n",
    "from sklearn.model_selection import train_test_split\n",
    "from sklearn.metrics import confusion_matrix, classification_report\n",
    "from sklearn.model_selection import cross_val_score\n",
    "from sklearn.svm import SVC\n",
    "from sklearn.ensemble import RandomForestClassifier\n",
    "\n",
    "from imblearn.over_sampling import RandomOverSampler\n",
    "from imblearn.under_sampling import RandomUnderSampler\n",
    "from sklearn.model_selection import cross_validate\n",
    "\n",
    "import seaborn as sns\n"
   ]
  },
  {
   "cell_type": "code",
   "execution_count": 24,
   "metadata": {},
   "outputs": [
    {
     "name": "stdout",
     "output_type": "stream",
     "text": [
      "     Unnamed: 0  Addthis  Bebo  Blogcatalog  Blogger  Buddymedia  Cnet  \\\n",
      "0  dmp923122274        0     0            2        0           0     3   \n",
      "1  dmp458034174        0     3            0        0           0     0   \n",
      "2  dmp364043571        0     2            0        0           0     0   \n",
      "3  dmp461339655        0     0            0        0           0     0   \n",
      "4  dmp549691332        0     0            0        0           0     5   \n",
      "\n",
      "   Conduit  Customerlobby  Delicious  ...  Vimeo Vocus  Wetpaint  Wordpress  \\\n",
      "0        6              0          0  ...      0     0         0          4   \n",
      "1        1              0          0  ...      0     0         0         12   \n",
      "2        0              0          2  ...      0     0         0         11   \n",
      "3        0              0          0  ...      0     0         0          6   \n",
      "4        7              0          0  ...      0     0         1          0   \n",
      "\n",
      "   Xanga  Yelp  Yfrog  Youtube  Yuku  Click  \n",
      "0      0     0      1        0     1      0  \n",
      "1      0     2      2       12     0      0  \n",
      "2      0     0      0        0     0      0  \n",
      "3      0     0      0       22     0      0  \n",
      "4      0     0      1        0     0      0  \n",
      "\n",
      "[5 rows x 83 columns]\n"
     ]
    }
   ],
   "source": [
    "# Load the dataset\n",
    "data = pd.read_csv(\"data.csv\")\n",
    "\n",
    "# Display the first few rows of the dataset to understand its structure\n",
    "print(data.head())"
   ]
  },
  {
   "cell_type": "code",
   "execution_count": 25,
   "metadata": {},
   "outputs": [],
   "source": [
    "# Step 2: Data Exploration and Cleaning\n",
    "# Check for missing values\n",
    "\n",
    "#print names of non-numeric columns\n",
    "# Select non-numeric columns\n",
    "non_numeric_cols = data.select_dtypes(exclude='number').columns.tolist()\n",
    "\n",
    "# Print names of non-numeric columns\n",
    "# print(\"Non-numeric columns:\", non_numeric_cols)\n",
    "\n",
    "#numer of values that are Error: value not found\n",
    "# print(data['Diigo'].value_counts()['Error: value not found'])\n",
    "\n",
    "# Replace the 'Error: value not found' values with NaN\n",
    "data['Diigo'].replace('Error: value not found', pd.NA, inplace=True)\n",
    "\n",
    "# Convert the Diigo column to a numeric data type\n",
    "data['Diigo'] = pd.to_numeric(data['Diigo'])\n",
    "\n",
    "# Check for outliers\n",
    "#print(data.describe())\n",
    "\n",
    "#number of nan values total\n",
    "# print(data.isnull().sum().sum())\n",
    "# data = data.select_dtypes(include='number')\n",
    "\n",
    "#find outliers where click column is greater than 1000 or less than 0\n",
    "#print(data[(data['Click'] > 1000) | (data['Click'] < 0)])\n",
    "\n",
    "#plot histogram of click column\n",
    "#data['Click'].plot(kind='hist')\n",
    "\n",
    "#drop djago column\n",
    "data = data.drop('Diigo', axis=1)"
   ]
  },
  {
   "cell_type": "markdown",
   "metadata": {},
   "source": [
    "2. Develop supervised machine-learning classifiers as mentioned above, using an 80/20 split for training to test sets. Use the confusion matrix, precision, recall, f1, support and accuracy to compare the performance of the algorithms. Apart from that, also carry out Cross-Validation."
   ]
  },
  {
   "cell_type": "code",
   "execution_count": 51,
   "metadata": {},
   "outputs": [
    {
     "data": {
      "text/html": [
       "<div>\n",
       "<style scoped>\n",
       "    .dataframe tbody tr th:only-of-type {\n",
       "        vertical-align: middle;\n",
       "    }\n",
       "\n",
       "    .dataframe tbody tr th {\n",
       "        vertical-align: top;\n",
       "    }\n",
       "\n",
       "    .dataframe thead th {\n",
       "        text-align: right;\n",
       "    }\n",
       "</style>\n",
       "<table border=\"1\" class=\"dataframe\">\n",
       "  <thead>\n",
       "    <tr style=\"text-align: right;\">\n",
       "      <th></th>\n",
       "      <th>Sum</th>\n",
       "      <th>Positive</th>\n",
       "      <th>Ratio</th>\n",
       "    </tr>\n",
       "  </thead>\n",
       "  <tbody>\n",
       "    <tr>\n",
       "      <th>Buddymedia</th>\n",
       "      <td>0</td>\n",
       "      <td>0</td>\n",
       "      <td>NaN</td>\n",
       "    </tr>\n",
       "    <tr>\n",
       "      <th>Customerlobby</th>\n",
       "      <td>49</td>\n",
       "      <td>4</td>\n",
       "      <td>0.081633</td>\n",
       "    </tr>\n",
       "    <tr>\n",
       "      <th>Ubertwitter</th>\n",
       "      <td>319</td>\n",
       "      <td>19</td>\n",
       "      <td>0.059561</td>\n",
       "    </tr>\n",
       "    <tr>\n",
       "      <th>Docs</th>\n",
       "      <td>607</td>\n",
       "      <td>35</td>\n",
       "      <td>0.057661</td>\n",
       "    </tr>\n",
       "    <tr>\n",
       "      <th>Twine</th>\n",
       "      <td>3030</td>\n",
       "      <td>169</td>\n",
       "      <td>0.055776</td>\n",
       "    </tr>\n",
       "    <tr>\n",
       "      <th>...</th>\n",
       "      <td>...</td>\n",
       "      <td>...</td>\n",
       "      <td>...</td>\n",
       "    </tr>\n",
       "    <tr>\n",
       "      <th>Conduit</th>\n",
       "      <td>260543</td>\n",
       "      <td>3559</td>\n",
       "      <td>0.013660</td>\n",
       "    </tr>\n",
       "    <tr>\n",
       "      <th>Cnet</th>\n",
       "      <td>240072</td>\n",
       "      <td>3647</td>\n",
       "      <td>0.015191</td>\n",
       "    </tr>\n",
       "    <tr>\n",
       "      <th>Myspace</th>\n",
       "      <td>387176</td>\n",
       "      <td>3721</td>\n",
       "      <td>0.009611</td>\n",
       "    </tr>\n",
       "    <tr>\n",
       "      <th>Facebook</th>\n",
       "      <td>673388</td>\n",
       "      <td>3767</td>\n",
       "      <td>0.005594</td>\n",
       "    </tr>\n",
       "    <tr>\n",
       "      <th>Youtube</th>\n",
       "      <td>695594</td>\n",
       "      <td>4447</td>\n",
       "      <td>0.006393</td>\n",
       "    </tr>\n",
       "  </tbody>\n",
       "</table>\n",
       "<p>81 rows × 3 columns</p>\n",
       "</div>"
      ],
      "text/plain": [
       "                  Sum  Positive     Ratio\n",
       "Buddymedia          0         0       NaN\n",
       "Customerlobby      49         4  0.081633\n",
       "Ubertwitter       319        19  0.059561\n",
       "Docs              607        35  0.057661\n",
       "Twine            3030       169  0.055776\n",
       "...               ...       ...       ...\n",
       "Conduit        260543      3559  0.013660\n",
       "Cnet           240072      3647  0.015191\n",
       "Myspace        387176      3721  0.009611\n",
       "Facebook       673388      3767  0.005594\n",
       "Youtube        695594      4447  0.006393\n",
       "\n",
       "[81 rows x 3 columns]"
      ]
     },
     "execution_count": 51,
     "metadata": {},
     "output_type": "execute_result"
    }
   ],
   "source": [
    "# get sum of impressions per column\n",
    "data.sum()\n",
    "# drop non-numeric columns\n",
    "data = data.select_dtypes(include='number')\n",
    "\n",
    "# # create new row to data with sum of each column\n",
    "# data.loc['Total'] = data.sum()\n",
    "\n",
    "# # get how many times each column has a value greater 0\n",
    "# data.gt(0).sum()\n",
    "\n",
    "# # create new row to add how many times each column has a value greater than 0\n",
    "# data.loc['Positive'] = data.gt(0).sum()\n",
    "\n",
    "# # get last 5 rows\n",
    "# # put last two rows in seperate df\n",
    "# data2 = data.tail(2)\n",
    "\n",
    "# create df with sum of each column and how many times each column has a value greater than 0\n",
    "data2 = pd.DataFrame(data.sum(), columns=['Sum'])\n",
    "data2['Positive'] = data.gt(0).sum()\n",
    "\n",
    "# add ratio of positive values to data2\n",
    "data2['Ratio'] = data2['Positive'] / data2['Sum']\n",
    "\n",
    "# sort by positive\n",
    "data2 = data2.sort_values(by='Positive', ascending=True)\n",
    "\n",
    "data2\n"
   ]
  },
  {
   "cell_type": "markdown",
   "metadata": {},
   "source": [
    "## SVM Classifier"
   ]
  },
  {
   "cell_type": "code",
   "execution_count": 26,
   "metadata": {},
   "outputs": [],
   "source": [
    "#pip install -U imbalanced-learn"
   ]
  },
  {
   "cell_type": "code",
   "execution_count": 54,
   "metadata": {},
   "outputs": [],
   "source": [
    "# split in 80/20 train/test\n",
    "X = data.drop('Click', axis=1)\n",
    "# drop non-numeric values\n",
    "X = X.select_dtypes(include='number')\n",
    "y = data['Click']\n",
    "X_train, X_test, y_train, y_test = train_test_split(X, y, test_size=0.2, random_state=0)\n"
   ]
  },
  {
   "cell_type": "code",
   "execution_count": 56,
   "metadata": {},
   "outputs": [
    {
     "name": "stdout",
     "output_type": "stream",
     "text": [
      "Support Vector Machine (SVM) Performance without Oversampling or Undersampling:\n",
      "              precision    recall  f1-score   support\n",
      "\n",
      "           0       0.88      1.00      0.93      1751\n",
      "           1       0.00      0.00      0.00       248\n",
      "        1236       0.00      0.00      0.00         1\n",
      "       19755       0.00      0.00      0.00         1\n",
      "\n",
      "    accuracy                           0.88      2001\n",
      "   macro avg       0.22      0.25      0.23      2001\n",
      "weighted avg       0.77      0.88      0.82      2001\n",
      "\n"
     ]
    },
    {
     "name": "stderr",
     "output_type": "stream",
     "text": [
      "/Users/simonstohrer/Library/Python/3.8/lib/python/site-packages/sklearn/metrics/_classification.py:1471: UndefinedMetricWarning: Precision and F-score are ill-defined and being set to 0.0 in labels with no predicted samples. Use `zero_division` parameter to control this behavior.\n",
      "  _warn_prf(average, modifier, msg_start, len(result))\n",
      "/Users/simonstohrer/Library/Python/3.8/lib/python/site-packages/sklearn/metrics/_classification.py:1471: UndefinedMetricWarning: Precision and F-score are ill-defined and being set to 0.0 in labels with no predicted samples. Use `zero_division` parameter to control this behavior.\n",
      "  _warn_prf(average, modifier, msg_start, len(result))\n",
      "/Users/simonstohrer/Library/Python/3.8/lib/python/site-packages/sklearn/metrics/_classification.py:1471: UndefinedMetricWarning: Precision and F-score are ill-defined and being set to 0.0 in labels with no predicted samples. Use `zero_division` parameter to control this behavior.\n",
      "  _warn_prf(average, modifier, msg_start, len(result))\n"
     ]
    }
   ],
   "source": [
    "# Train and evaluate SVM classifier without oversampling or undersampling\n",
    "svm_classifier = SVC()\n",
    "svm_classifier.fit(X_train, y_train)\n",
    "svm_y_pred = svm_classifier.predict(X_test)\n",
    "\n",
    "print(\"Support Vector Machine (SVM) Performance without Oversampling or Undersampling:\")\n",
    "print(classification_report(y_test, svm_y_pred))"
   ]
  },
  {
   "cell_type": "markdown",
   "metadata": {},
   "source": [
    "Because of the imbalance of the data set, 1s are not identified correctly. We can try over and undersampling to prevent this issue."
   ]
  },
  {
   "cell_type": "code",
   "execution_count": 57,
   "metadata": {},
   "outputs": [
    {
     "name": "stdout",
     "output_type": "stream",
     "text": [
      "Support Vector Machine (SVM) Performance with Oversampling:\n",
      "              precision    recall  f1-score   support\n",
      "\n",
      "           0       0.00      0.00      0.00      1751\n",
      "           1       0.12      1.00      0.22       248\n",
      "        1236       0.00      0.00      0.00         1\n",
      "       19755       0.00      0.00      0.00         1\n",
      "\n",
      "    accuracy                           0.12      2001\n",
      "   macro avg       0.03      0.25      0.06      2001\n",
      "weighted avg       0.02      0.12      0.03      2001\n",
      "\n"
     ]
    },
    {
     "name": "stderr",
     "output_type": "stream",
     "text": [
      "/Users/simonstohrer/Library/Python/3.8/lib/python/site-packages/sklearn/metrics/_classification.py:1471: UndefinedMetricWarning: Precision and F-score are ill-defined and being set to 0.0 in labels with no predicted samples. Use `zero_division` parameter to control this behavior.\n",
      "  _warn_prf(average, modifier, msg_start, len(result))\n",
      "/Users/simonstohrer/Library/Python/3.8/lib/python/site-packages/sklearn/metrics/_classification.py:1471: UndefinedMetricWarning: Precision and F-score are ill-defined and being set to 0.0 in labels with no predicted samples. Use `zero_division` parameter to control this behavior.\n",
      "  _warn_prf(average, modifier, msg_start, len(result))\n",
      "/Users/simonstohrer/Library/Python/3.8/lib/python/site-packages/sklearn/metrics/_classification.py:1471: UndefinedMetricWarning: Precision and F-score are ill-defined and being set to 0.0 in labels with no predicted samples. Use `zero_division` parameter to control this behavior.\n",
      "  _warn_prf(average, modifier, msg_start, len(result))\n"
     ]
    },
    {
     "name": "stdout",
     "output_type": "stream",
     "text": [
      "Support Vector Machine (SVM) Performance with Undersampling:\n",
      "              precision    recall  f1-score   support\n",
      "\n",
      "           0       0.00      0.00      0.00      1751\n",
      "           1       0.12      1.00      0.22       248\n",
      "        1236       0.00      0.00      0.00         1\n",
      "       19755       0.00      0.00      0.00         1\n",
      "\n",
      "    accuracy                           0.12      2001\n",
      "   macro avg       0.03      0.25      0.06      2001\n",
      "weighted avg       0.02      0.12      0.03      2001\n",
      "\n"
     ]
    },
    {
     "name": "stderr",
     "output_type": "stream",
     "text": [
      "/Users/simonstohrer/Library/Python/3.8/lib/python/site-packages/sklearn/metrics/_classification.py:1471: UndefinedMetricWarning: Precision and F-score are ill-defined and being set to 0.0 in labels with no predicted samples. Use `zero_division` parameter to control this behavior.\n",
      "  _warn_prf(average, modifier, msg_start, len(result))\n",
      "/Users/simonstohrer/Library/Python/3.8/lib/python/site-packages/sklearn/metrics/_classification.py:1471: UndefinedMetricWarning: Precision and F-score are ill-defined and being set to 0.0 in labels with no predicted samples. Use `zero_division` parameter to control this behavior.\n",
      "  _warn_prf(average, modifier, msg_start, len(result))\n",
      "/Users/simonstohrer/Library/Python/3.8/lib/python/site-packages/sklearn/metrics/_classification.py:1471: UndefinedMetricWarning: Precision and F-score are ill-defined and being set to 0.0 in labels with no predicted samples. Use `zero_division` parameter to control this behavior.\n",
      "  _warn_prf(average, modifier, msg_start, len(result))\n"
     ]
    }
   ],
   "source": [
    "# Oversampling\n",
    "oversampler = RandomOverSampler(random_state=42)\n",
    "X_train_over, y_train_over = oversampler.fit_resample(X_train, y_train)\n",
    "\n",
    "# Undersampling\n",
    "undersampler = RandomUnderSampler(random_state=42)\n",
    "X_train_under, y_train_under = undersampler.fit_resample(X_train, y_train)\n",
    "\n",
    "# Train and evaluate SVM classifier with oversampled data\n",
    "svm_classifier_over = SVC()\n",
    "svm_classifier_over.fit(X_train_over, y_train_over)\n",
    "svm_y_pred_over = svm_classifier_over.predict(X_test)\n",
    "\n",
    "print(\"Support Vector Machine (SVM) Performance with Oversampling:\")\n",
    "print(classification_report(y_test, svm_y_pred_over))\n",
    "\n",
    "# Train and evaluate SVM classifier with undersampled data\n",
    "svm_classifier_under = SVC()\n",
    "svm_classifier_under.fit(X_train_under, y_train_under)\n",
    "svm_y_pred_under = svm_classifier_under.predict(X_test)\n",
    "\n",
    "print(\"Support Vector Machine (SVM) Performance with Undersampling:\")\n",
    "print(classification_report(y_test, svm_y_pred_under))\n"
   ]
  },
  {
   "cell_type": "markdown",
   "metadata": {},
   "source": [
    "We can see that while oversampling was not helpful in improving precision, recall and f1-score, undersampling was. It is mportant to note that undersampling can lead to loss of important information"
   ]
  },
  {
   "cell_type": "code",
   "execution_count": 86,
   "metadata": {},
   "outputs": [],
   "source": [
    "#Preparing cross validation\n",
    "# Define function to display cross-validation results\n",
    "def display_cv_results(cv_results):\n",
    "    print(\"Cross-Validation Results:\")\n",
    "    print(\"Accuracy:\", cv_results['test_accuracy'])\n",
    "    print(\"Precision:\", cv_results['test_precision'])\n",
    "    print(\"Recall:\", cv_results['test_recall'])\n",
    "    print(\"F1-score:\", cv_results['test_f1'])\n",
    "    \n",
    "\n",
    "# Define function to display mean and standard deviation of cross-validation results\n",
    "def display_cv_summary(cv_results):\n",
    "    print(\"\\nMean Cross-Validation Scores:\")\n",
    "    print(\"Accuracy:\", cv_results['test_accuracy'].mean())\n",
    "    print(\"Precision:\", cv_results['test_precision'].mean())\n",
    "    print(\"Recall:\", cv_results['test_recall'].mean())\n",
    "    print(\"F1-score:\", cv_results['test_f1'].mean())"
   ]
  },
  {
   "cell_type": "code",
   "execution_count": 87,
   "metadata": {},
   "outputs": [
    {
     "name": "stdout",
     "output_type": "stream",
     "text": [
      "Support Vector Machine (SVM) Performance with undersampling:\n",
      "Confusion Matrix:\n",
      " [[1455  306]\n",
      " [  28  211]]\n",
      "\n",
      "Classification Report:\n",
      "               precision    recall  f1-score   support\n",
      "\n",
      "           0       0.98      0.83      0.90      1761\n",
      "           1       0.41      0.88      0.56       239\n",
      "\n",
      "    accuracy                           0.83      2000\n",
      "   macro avg       0.69      0.85      0.73      2000\n",
      "weighted avg       0.91      0.83      0.86      2000\n",
      "\n"
     ]
    },
    {
     "name": "stderr",
     "output_type": "stream",
     "text": [
      "/Users/antoniastrobl/anaconda3/lib/python3.11/site-packages/sklearn/metrics/_classification.py:1509: UndefinedMetricWarning: Precision is ill-defined and being set to 0.0 due to no predicted samples. Use `zero_division` parameter to control this behavior.\n",
      "  _warn_prf(average, modifier, f\"{metric.capitalize()} is\", len(result))\n",
      "/Users/antoniastrobl/anaconda3/lib/python3.11/site-packages/sklearn/metrics/_classification.py:1509: UndefinedMetricWarning: Precision is ill-defined and being set to 0.0 due to no predicted samples. Use `zero_division` parameter to control this behavior.\n",
      "  _warn_prf(average, modifier, f\"{metric.capitalize()} is\", len(result))\n",
      "/Users/antoniastrobl/anaconda3/lib/python3.11/site-packages/sklearn/metrics/_classification.py:1509: UndefinedMetricWarning: Precision is ill-defined and being set to 0.0 due to no predicted samples. Use `zero_division` parameter to control this behavior.\n",
      "  _warn_prf(average, modifier, f\"{metric.capitalize()} is\", len(result))\n"
     ]
    },
    {
     "name": "stdout",
     "output_type": "stream",
     "text": [
      "Cross-Validation Results:\n",
      "Accuracy: [0.877  0.8765 0.8765 0.9095 0.8765]\n",
      "Precision: [0.    0.    0.    0.875 0.   ]\n",
      "Recall: [0.         0.         0.         0.31174089 0.        ]\n",
      "F1-score: [0.         0.         0.         0.45970149 0.        ]\n",
      "\n",
      "Mean Cross-Validation Scores:\n",
      "Accuracy: 0.8831999999999999\n",
      "Precision: 0.175\n",
      "Recall: 0.062348178137651825\n",
      "F1-score: 0.09194029850746269\n"
     ]
    },
    {
     "name": "stderr",
     "output_type": "stream",
     "text": [
      "/Users/antoniastrobl/anaconda3/lib/python3.11/site-packages/sklearn/metrics/_classification.py:1509: UndefinedMetricWarning: Precision is ill-defined and being set to 0.0 due to no predicted samples. Use `zero_division` parameter to control this behavior.\n",
      "  _warn_prf(average, modifier, f\"{metric.capitalize()} is\", len(result))\n"
     ]
    }
   ],
   "source": [
    "print(\"Support Vector Machine (SVM) Performance with undersampling:\")\n",
    "display_classification_report(y_test, svm_y_pred_under)\n",
    "\n",
    "# Perform cross-validation for SVM classifier\n",
    "svm_cv_results = cross_validate(svm_classifier_under, X, y, cv=5, scoring=['accuracy', 'precision', 'recall', 'f1'])\n",
    "display_cv_results(svm_cv_results)\n",
    "display_cv_summary(svm_cv_results)\n"
   ]
  },
  {
   "cell_type": "markdown",
   "metadata": {},
   "source": [
    "## Random Forest Classifier"
   ]
  },
  {
   "cell_type": "code",
   "execution_count": 52,
   "metadata": {},
   "outputs": [],
   "source": [
    "#Random Forest Classifier\n",
    "# Train and evaluate Random Forest \n",
    "rf_classifier = RandomForestClassifier(random_state=42)"
   ]
  },
  {
   "cell_type": "code",
   "execution_count": 53,
   "metadata": {},
   "outputs": [
    {
     "ename": "ValueError",
     "evalue": "could not convert string to float: 'dmp437802502'",
     "output_type": "error",
     "traceback": [
      "\u001b[0;31m---------------------------------------------------------------------------\u001b[0m",
      "\u001b[0;31mValueError\u001b[0m                                Traceback (most recent call last)",
      "\u001b[0;32m/var/folders/tz/wvdldxqj00gc2cslzkpx77sr0000gn/T/ipykernel_62639/1714805170.py\u001b[0m in \u001b[0;36m?\u001b[0;34m()\u001b[0m\n\u001b[0;32m----> 3\u001b[0;31m \u001b[0;31m# Train and evaluate Random Forest classifier with 80/20 split\u001b[0m\u001b[0;34m\u001b[0m\u001b[0;34m\u001b[0m\u001b[0;34m\u001b[0m\u001b[0m\n\u001b[0m\u001b[1;32m      4\u001b[0m \u001b[0mrf_classifier\u001b[0m \u001b[0;34m=\u001b[0m \u001b[0mRandomForestClassifier\u001b[0m\u001b[0;34m(\u001b[0m\u001b[0mrandom_state\u001b[0m\u001b[0;34m=\u001b[0m\u001b[0;36m42\u001b[0m\u001b[0;34m)\u001b[0m\u001b[0;34m\u001b[0m\u001b[0;34m\u001b[0m\u001b[0m\n\u001b[1;32m      5\u001b[0m \u001b[0mrf_classifier\u001b[0m\u001b[0;34m.\u001b[0m\u001b[0mfit\u001b[0m\u001b[0;34m(\u001b[0m\u001b[0mX_train\u001b[0m\u001b[0;34m,\u001b[0m \u001b[0my_train\u001b[0m\u001b[0;34m)\u001b[0m\u001b[0;34m\u001b[0m\u001b[0;34m\u001b[0m\u001b[0m\n\u001b[1;32m      6\u001b[0m \u001b[0mrf_y_pred\u001b[0m \u001b[0;34m=\u001b[0m \u001b[0mrf_classifier\u001b[0m\u001b[0;34m.\u001b[0m\u001b[0mpredict\u001b[0m\u001b[0;34m(\u001b[0m\u001b[0mX_test\u001b[0m\u001b[0;34m)\u001b[0m\u001b[0;34m\u001b[0m\u001b[0;34m\u001b[0m\u001b[0m\n",
      "\u001b[0;32m~/Library/Python/3.8/lib/python/site-packages/sklearn/base.py\u001b[0m in \u001b[0;36m?\u001b[0;34m(estimator, *args, **kwargs)\u001b[0m\n\u001b[1;32m   1148\u001b[0m                 skip_parameter_validation=(\n\u001b[1;32m   1149\u001b[0m                     \u001b[0mprefer_skip_nested_validation\u001b[0m \u001b[0;32mor\u001b[0m \u001b[0mglobal_skip_validation\u001b[0m\u001b[0;34m\u001b[0m\u001b[0;34m\u001b[0m\u001b[0m\n\u001b[1;32m   1150\u001b[0m                 )\n\u001b[1;32m   1151\u001b[0m             ):\n\u001b[0;32m-> 1152\u001b[0;31m                 \u001b[0;32mreturn\u001b[0m \u001b[0mfit_method\u001b[0m\u001b[0;34m(\u001b[0m\u001b[0mestimator\u001b[0m\u001b[0;34m,\u001b[0m \u001b[0;34m*\u001b[0m\u001b[0margs\u001b[0m\u001b[0;34m,\u001b[0m \u001b[0;34m**\u001b[0m\u001b[0mkwargs\u001b[0m\u001b[0;34m)\u001b[0m\u001b[0;34m\u001b[0m\u001b[0;34m\u001b[0m\u001b[0m\n\u001b[0m",
      "\u001b[0;32m~/Library/Python/3.8/lib/python/site-packages/sklearn/ensemble/_forest.py\u001b[0m in \u001b[0;36m?\u001b[0;34m(self, X, y, sample_weight)\u001b[0m\n\u001b[1;32m    344\u001b[0m         \"\"\"\n\u001b[1;32m    345\u001b[0m         \u001b[0;31m# Validate or convert input data\u001b[0m\u001b[0;34m\u001b[0m\u001b[0;34m\u001b[0m\u001b[0;34m\u001b[0m\u001b[0m\n\u001b[1;32m    346\u001b[0m         \u001b[0;32mif\u001b[0m \u001b[0missparse\u001b[0m\u001b[0;34m(\u001b[0m\u001b[0my\u001b[0m\u001b[0;34m)\u001b[0m\u001b[0;34m:\u001b[0m\u001b[0;34m\u001b[0m\u001b[0;34m\u001b[0m\u001b[0m\n\u001b[1;32m    347\u001b[0m             \u001b[0;32mraise\u001b[0m \u001b[0mValueError\u001b[0m\u001b[0;34m(\u001b[0m\u001b[0;34m\"sparse multilabel-indicator for y is not supported.\"\u001b[0m\u001b[0;34m)\u001b[0m\u001b[0;34m\u001b[0m\u001b[0;34m\u001b[0m\u001b[0m\n\u001b[0;32m--> 348\u001b[0;31m         X, y = self._validate_data(\n\u001b[0m\u001b[1;32m    349\u001b[0m             \u001b[0mX\u001b[0m\u001b[0;34m,\u001b[0m \u001b[0my\u001b[0m\u001b[0;34m,\u001b[0m \u001b[0mmulti_output\u001b[0m\u001b[0;34m=\u001b[0m\u001b[0;32mTrue\u001b[0m\u001b[0;34m,\u001b[0m \u001b[0maccept_sparse\u001b[0m\u001b[0;34m=\u001b[0m\u001b[0;34m\"csc\"\u001b[0m\u001b[0;34m,\u001b[0m \u001b[0mdtype\u001b[0m\u001b[0;34m=\u001b[0m\u001b[0mDTYPE\u001b[0m\u001b[0;34m\u001b[0m\u001b[0;34m\u001b[0m\u001b[0m\n\u001b[1;32m    350\u001b[0m         )\n\u001b[1;32m    351\u001b[0m         \u001b[0;32mif\u001b[0m \u001b[0msample_weight\u001b[0m \u001b[0;32mis\u001b[0m \u001b[0;32mnot\u001b[0m \u001b[0;32mNone\u001b[0m\u001b[0;34m:\u001b[0m\u001b[0;34m\u001b[0m\u001b[0;34m\u001b[0m\u001b[0m\n",
      "\u001b[0;32m~/Library/Python/3.8/lib/python/site-packages/sklearn/base.py\u001b[0m in \u001b[0;36m?\u001b[0;34m(self, X, y, reset, validate_separately, cast_to_ndarray, **check_params)\u001b[0m\n\u001b[1;32m    618\u001b[0m                 \u001b[0;32mif\u001b[0m \u001b[0;34m\"estimator\"\u001b[0m \u001b[0;32mnot\u001b[0m \u001b[0;32min\u001b[0m \u001b[0mcheck_y_params\u001b[0m\u001b[0;34m:\u001b[0m\u001b[0;34m\u001b[0m\u001b[0;34m\u001b[0m\u001b[0m\n\u001b[1;32m    619\u001b[0m                     \u001b[0mcheck_y_params\u001b[0m \u001b[0;34m=\u001b[0m \u001b[0;34m{\u001b[0m\u001b[0;34m**\u001b[0m\u001b[0mdefault_check_params\u001b[0m\u001b[0;34m,\u001b[0m \u001b[0;34m**\u001b[0m\u001b[0mcheck_y_params\u001b[0m\u001b[0;34m}\u001b[0m\u001b[0;34m\u001b[0m\u001b[0;34m\u001b[0m\u001b[0m\n\u001b[1;32m    620\u001b[0m                 \u001b[0my\u001b[0m \u001b[0;34m=\u001b[0m \u001b[0mcheck_array\u001b[0m\u001b[0;34m(\u001b[0m\u001b[0my\u001b[0m\u001b[0;34m,\u001b[0m \u001b[0minput_name\u001b[0m\u001b[0;34m=\u001b[0m\u001b[0;34m\"y\"\u001b[0m\u001b[0;34m,\u001b[0m \u001b[0;34m**\u001b[0m\u001b[0mcheck_y_params\u001b[0m\u001b[0;34m)\u001b[0m\u001b[0;34m\u001b[0m\u001b[0;34m\u001b[0m\u001b[0m\n\u001b[1;32m    621\u001b[0m             \u001b[0;32melse\u001b[0m\u001b[0;34m:\u001b[0m\u001b[0;34m\u001b[0m\u001b[0;34m\u001b[0m\u001b[0m\n\u001b[0;32m--> 622\u001b[0;31m                 \u001b[0mX\u001b[0m\u001b[0;34m,\u001b[0m \u001b[0my\u001b[0m \u001b[0;34m=\u001b[0m \u001b[0mcheck_X_y\u001b[0m\u001b[0;34m(\u001b[0m\u001b[0mX\u001b[0m\u001b[0;34m,\u001b[0m \u001b[0my\u001b[0m\u001b[0;34m,\u001b[0m \u001b[0;34m**\u001b[0m\u001b[0mcheck_params\u001b[0m\u001b[0;34m)\u001b[0m\u001b[0;34m\u001b[0m\u001b[0;34m\u001b[0m\u001b[0m\n\u001b[0m\u001b[1;32m    623\u001b[0m             \u001b[0mout\u001b[0m \u001b[0;34m=\u001b[0m \u001b[0mX\u001b[0m\u001b[0;34m,\u001b[0m \u001b[0my\u001b[0m\u001b[0;34m\u001b[0m\u001b[0;34m\u001b[0m\u001b[0m\n\u001b[1;32m    624\u001b[0m \u001b[0;34m\u001b[0m\u001b[0m\n\u001b[1;32m    625\u001b[0m         \u001b[0;32mif\u001b[0m \u001b[0;32mnot\u001b[0m \u001b[0mno_val_X\u001b[0m \u001b[0;32mand\u001b[0m \u001b[0mcheck_params\u001b[0m\u001b[0;34m.\u001b[0m\u001b[0mget\u001b[0m\u001b[0;34m(\u001b[0m\u001b[0;34m\"ensure_2d\"\u001b[0m\u001b[0;34m,\u001b[0m \u001b[0;32mTrue\u001b[0m\u001b[0;34m)\u001b[0m\u001b[0;34m:\u001b[0m\u001b[0;34m\u001b[0m\u001b[0;34m\u001b[0m\u001b[0m\n",
      "\u001b[0;32m~/Library/Python/3.8/lib/python/site-packages/sklearn/utils/validation.py\u001b[0m in \u001b[0;36m?\u001b[0;34m(X, y, accept_sparse, accept_large_sparse, dtype, order, copy, force_all_finite, ensure_2d, allow_nd, multi_output, ensure_min_samples, ensure_min_features, y_numeric, estimator)\u001b[0m\n\u001b[1;32m   1142\u001b[0m         raise ValueError(\n\u001b[1;32m   1143\u001b[0m             \u001b[0;34mf\"{estimator_name} requires y to be passed, but the target y is None\"\u001b[0m\u001b[0;34m\u001b[0m\u001b[0;34m\u001b[0m\u001b[0m\n\u001b[1;32m   1144\u001b[0m         )\n\u001b[1;32m   1145\u001b[0m \u001b[0;34m\u001b[0m\u001b[0m\n\u001b[0;32m-> 1146\u001b[0;31m     X = check_array(\n\u001b[0m\u001b[1;32m   1147\u001b[0m         \u001b[0mX\u001b[0m\u001b[0;34m,\u001b[0m\u001b[0;34m\u001b[0m\u001b[0;34m\u001b[0m\u001b[0m\n\u001b[1;32m   1148\u001b[0m         \u001b[0maccept_sparse\u001b[0m\u001b[0;34m=\u001b[0m\u001b[0maccept_sparse\u001b[0m\u001b[0;34m,\u001b[0m\u001b[0;34m\u001b[0m\u001b[0;34m\u001b[0m\u001b[0m\n\u001b[1;32m   1149\u001b[0m         \u001b[0maccept_large_sparse\u001b[0m\u001b[0;34m=\u001b[0m\u001b[0maccept_large_sparse\u001b[0m\u001b[0;34m,\u001b[0m\u001b[0;34m\u001b[0m\u001b[0;34m\u001b[0m\u001b[0m\n",
      "\u001b[0;32m~/Library/Python/3.8/lib/python/site-packages/sklearn/utils/validation.py\u001b[0m in \u001b[0;36m?\u001b[0;34m(array, accept_sparse, accept_large_sparse, dtype, order, copy, force_all_finite, ensure_2d, allow_nd, ensure_min_samples, ensure_min_features, estimator, input_name)\u001b[0m\n\u001b[1;32m    913\u001b[0m                     \u001b[0marray\u001b[0m \u001b[0;34m=\u001b[0m \u001b[0mxp\u001b[0m\u001b[0;34m.\u001b[0m\u001b[0mastype\u001b[0m\u001b[0;34m(\u001b[0m\u001b[0marray\u001b[0m\u001b[0;34m,\u001b[0m \u001b[0mdtype\u001b[0m\u001b[0;34m,\u001b[0m \u001b[0mcopy\u001b[0m\u001b[0;34m=\u001b[0m\u001b[0;32mFalse\u001b[0m\u001b[0;34m)\u001b[0m\u001b[0;34m\u001b[0m\u001b[0;34m\u001b[0m\u001b[0m\n\u001b[1;32m    914\u001b[0m                 \u001b[0;32melse\u001b[0m\u001b[0;34m:\u001b[0m\u001b[0;34m\u001b[0m\u001b[0;34m\u001b[0m\u001b[0m\n\u001b[1;32m    915\u001b[0m                     \u001b[0marray\u001b[0m \u001b[0;34m=\u001b[0m \u001b[0m_asarray_with_order\u001b[0m\u001b[0;34m(\u001b[0m\u001b[0marray\u001b[0m\u001b[0;34m,\u001b[0m \u001b[0morder\u001b[0m\u001b[0;34m=\u001b[0m\u001b[0morder\u001b[0m\u001b[0;34m,\u001b[0m \u001b[0mdtype\u001b[0m\u001b[0;34m=\u001b[0m\u001b[0mdtype\u001b[0m\u001b[0;34m,\u001b[0m \u001b[0mxp\u001b[0m\u001b[0;34m=\u001b[0m\u001b[0mxp\u001b[0m\u001b[0;34m)\u001b[0m\u001b[0;34m\u001b[0m\u001b[0;34m\u001b[0m\u001b[0m\n\u001b[1;32m    916\u001b[0m             \u001b[0;32mexcept\u001b[0m \u001b[0mComplexWarning\u001b[0m \u001b[0;32mas\u001b[0m \u001b[0mcomplex_warning\u001b[0m\u001b[0;34m:\u001b[0m\u001b[0;34m\u001b[0m\u001b[0;34m\u001b[0m\u001b[0m\n\u001b[0;32m--> 917\u001b[0;31m                 raise ValueError(\n\u001b[0m\u001b[1;32m    918\u001b[0m                     \u001b[0;34m\"Complex data not supported\\n{}\\n\"\u001b[0m\u001b[0;34m.\u001b[0m\u001b[0mformat\u001b[0m\u001b[0;34m(\u001b[0m\u001b[0marray\u001b[0m\u001b[0;34m)\u001b[0m\u001b[0;34m\u001b[0m\u001b[0;34m\u001b[0m\u001b[0m\n\u001b[1;32m    919\u001b[0m                 ) from complex_warning\n\u001b[1;32m    920\u001b[0m \u001b[0;34m\u001b[0m\u001b[0m\n",
      "\u001b[0;32m~/Library/Python/3.8/lib/python/site-packages/sklearn/utils/_array_api.py\u001b[0m in \u001b[0;36m?\u001b[0;34m(array, dtype, order, copy, xp)\u001b[0m\n\u001b[1;32m    376\u001b[0m         \u001b[0;31m# Use NumPy API to support order\u001b[0m\u001b[0;34m\u001b[0m\u001b[0;34m\u001b[0m\u001b[0;34m\u001b[0m\u001b[0m\n\u001b[1;32m    377\u001b[0m         \u001b[0;32mif\u001b[0m \u001b[0mcopy\u001b[0m \u001b[0;32mis\u001b[0m \u001b[0;32mTrue\u001b[0m\u001b[0;34m:\u001b[0m\u001b[0;34m\u001b[0m\u001b[0;34m\u001b[0m\u001b[0m\n\u001b[1;32m    378\u001b[0m             \u001b[0marray\u001b[0m \u001b[0;34m=\u001b[0m \u001b[0mnumpy\u001b[0m\u001b[0;34m.\u001b[0m\u001b[0marray\u001b[0m\u001b[0;34m(\u001b[0m\u001b[0marray\u001b[0m\u001b[0;34m,\u001b[0m \u001b[0morder\u001b[0m\u001b[0;34m=\u001b[0m\u001b[0morder\u001b[0m\u001b[0;34m,\u001b[0m \u001b[0mdtype\u001b[0m\u001b[0;34m=\u001b[0m\u001b[0mdtype\u001b[0m\u001b[0;34m)\u001b[0m\u001b[0;34m\u001b[0m\u001b[0;34m\u001b[0m\u001b[0m\n\u001b[1;32m    379\u001b[0m         \u001b[0;32melse\u001b[0m\u001b[0;34m:\u001b[0m\u001b[0;34m\u001b[0m\u001b[0;34m\u001b[0m\u001b[0m\n\u001b[0;32m--> 380\u001b[0;31m             \u001b[0marray\u001b[0m \u001b[0;34m=\u001b[0m \u001b[0mnumpy\u001b[0m\u001b[0;34m.\u001b[0m\u001b[0masarray\u001b[0m\u001b[0;34m(\u001b[0m\u001b[0marray\u001b[0m\u001b[0;34m,\u001b[0m \u001b[0morder\u001b[0m\u001b[0;34m=\u001b[0m\u001b[0morder\u001b[0m\u001b[0;34m,\u001b[0m \u001b[0mdtype\u001b[0m\u001b[0;34m=\u001b[0m\u001b[0mdtype\u001b[0m\u001b[0;34m)\u001b[0m\u001b[0;34m\u001b[0m\u001b[0;34m\u001b[0m\u001b[0m\n\u001b[0m\u001b[1;32m    381\u001b[0m \u001b[0;34m\u001b[0m\u001b[0m\n\u001b[1;32m    382\u001b[0m         \u001b[0;31m# At this point array is a NumPy ndarray. We convert it to an array\u001b[0m\u001b[0;34m\u001b[0m\u001b[0;34m\u001b[0m\u001b[0;34m\u001b[0m\u001b[0m\n\u001b[1;32m    383\u001b[0m         \u001b[0;31m# container that is consistent with the input's namespace.\u001b[0m\u001b[0;34m\u001b[0m\u001b[0;34m\u001b[0m\u001b[0;34m\u001b[0m\u001b[0m\n",
      "\u001b[0;32m~/Library/Python/3.8/lib/python/site-packages/pandas/core/generic.py\u001b[0m in \u001b[0;36m?\u001b[0;34m(self, dtype)\u001b[0m\n\u001b[1;32m   1996\u001b[0m     \u001b[0;32mdef\u001b[0m \u001b[0m__array__\u001b[0m\u001b[0;34m(\u001b[0m\u001b[0mself\u001b[0m\u001b[0;34m,\u001b[0m \u001b[0mdtype\u001b[0m\u001b[0;34m:\u001b[0m \u001b[0mnpt\u001b[0m\u001b[0;34m.\u001b[0m\u001b[0mDTypeLike\u001b[0m \u001b[0;34m|\u001b[0m \u001b[0;32mNone\u001b[0m \u001b[0;34m=\u001b[0m \u001b[0;32mNone\u001b[0m\u001b[0;34m)\u001b[0m \u001b[0;34m->\u001b[0m \u001b[0mnp\u001b[0m\u001b[0;34m.\u001b[0m\u001b[0mndarray\u001b[0m\u001b[0;34m:\u001b[0m\u001b[0;34m\u001b[0m\u001b[0;34m\u001b[0m\u001b[0m\n\u001b[1;32m   1997\u001b[0m         \u001b[0mvalues\u001b[0m \u001b[0;34m=\u001b[0m \u001b[0mself\u001b[0m\u001b[0;34m.\u001b[0m\u001b[0m_values\u001b[0m\u001b[0;34m\u001b[0m\u001b[0;34m\u001b[0m\u001b[0m\n\u001b[0;32m-> 1998\u001b[0;31m         \u001b[0marr\u001b[0m \u001b[0;34m=\u001b[0m \u001b[0mnp\u001b[0m\u001b[0;34m.\u001b[0m\u001b[0masarray\u001b[0m\u001b[0;34m(\u001b[0m\u001b[0mvalues\u001b[0m\u001b[0;34m,\u001b[0m \u001b[0mdtype\u001b[0m\u001b[0;34m=\u001b[0m\u001b[0mdtype\u001b[0m\u001b[0;34m)\u001b[0m\u001b[0;34m\u001b[0m\u001b[0;34m\u001b[0m\u001b[0m\n\u001b[0m\u001b[1;32m   1999\u001b[0m         if (\n\u001b[1;32m   2000\u001b[0m             \u001b[0mastype_is_view\u001b[0m\u001b[0;34m(\u001b[0m\u001b[0mvalues\u001b[0m\u001b[0;34m.\u001b[0m\u001b[0mdtype\u001b[0m\u001b[0;34m,\u001b[0m \u001b[0marr\u001b[0m\u001b[0;34m.\u001b[0m\u001b[0mdtype\u001b[0m\u001b[0;34m)\u001b[0m\u001b[0;34m\u001b[0m\u001b[0;34m\u001b[0m\u001b[0m\n\u001b[1;32m   2001\u001b[0m             \u001b[0;32mand\u001b[0m \u001b[0musing_copy_on_write\u001b[0m\u001b[0;34m(\u001b[0m\u001b[0;34m)\u001b[0m\u001b[0;34m\u001b[0m\u001b[0;34m\u001b[0m\u001b[0m\n",
      "\u001b[0;31mValueError\u001b[0m: could not convert string to float: 'dmp437802502'"
     ]
    }
   ],
   "source": [
    "# Train and evaluate Random Forest classifier with 80/20 split\n",
    "rf_classifier = RandomForestClassifier(random_state=42)\n",
    "rf_classifier.fit(X_train, y_train)\n",
    "rf_y_pred = rf_classifier.predict(X_test)\n",
    "\n",
    "print(\"Random Forest Performance with 80/20 Split:\")\n",
    "display_classification_report(y_test, rf_y_pred)\n",
    "\n",
    "# Perform cross-validation for Random Forest classifier\n",
    "rf_cv_results = cross_validate(rf_classifier, X, y, cv=5, scoring=['accuracy', 'precision', 'recall', 'f1'])\n",
    "display_cv_results(rf_cv_results)\n",
    "display_cv_summary(rf_cv_results)\n"
   ]
  },
  {
   "cell_type": "markdown",
   "metadata": {},
   "source": [
    "Accuracy:\n",
    "Both classifiers achieve similar accuracy scores, with SVM slightly outperforming Random Forest.\n",
    "Precision:\n",
    "Random Forest achieves significantly higher precision compared to SVM.\n",
    "Recall:\n",
    "Both classifiers have low recall scores, indicating they struggle to correctly identify positive instances (users who clicked on advertisements).\n",
    "F1-score:\n",
    "SVM achieves a higher F1-score compared to Random Forest, but both classifiers have low F1-scores due to the low recall.\n",
    "Overall, while Random Forest achieves higher precision, its recall and F1-score are lower compared to SVM. SVM, on the other hand, achieves a slightly higher recall and F1-score, albeit with lower precision."
   ]
  },
  {
   "cell_type": "markdown",
   "metadata": {},
   "source": [
    "2. Next, create a function to find the five most influential features and develop a function to plot the most significant predictors by considering the size of their coefficients."
   ]
  },
  {
   "cell_type": "code",
   "execution_count": 115,
   "metadata": {},
   "outputs": [],
   "source": [
    "\n",
    "def identify_top_features(classifier, feature_names, n=5, classifier_type='SVM'):\n",
    "    if classifier_type == 'SVM':\n",
    "        if hasattr(classifier, 'coef_'):\n",
    "            coefficients = classifier.coef_.ravel()\n",
    "            absolute_coefficients = abs(coefficients)\n",
    "            top_indices = absolute_coefficients.argsort()[-n:][::-1]\n",
    "            top_features = [feature_names[i] for i in top_indices]\n",
    "            top_coefficients = coefficients[top_indices]\n",
    "            return top_features, top_coefficients\n",
    "        else:\n",
    "            print(\"Coefficient information not available for the given classifier.\")\n",
    "            return None, None\n",
    "    elif classifier_type == 'Random Forest':\n",
    "        if hasattr(classifier, 'feature_importances_'):\n",
    "            feature_importances = classifier.feature_importances_\n",
    "            top_indices = feature_importances.argsort()[-n:][::-1]\n",
    "            top_features = [feature_names[i] for i in top_indices]\n",
    "            top_coefficients = feature_importances[top_indices]\n",
    "            return top_features, top_coefficients\n",
    "        else:\n",
    "            print(\"Feature importance information not available for the given classifier.\")\n",
    "            return None, None\n",
    "    else:\n",
    "        print(\"Invalid classifier type. Supported types: 'SVM', 'Random Forest'.\")\n",
    "        return None, None\n",
    "\n",
    "def plot_top_features(top_features, top_coefficients, n=5, classifier_type='SVM'):\n",
    "    if top_features is not None and top_coefficients is not None:\n",
    "        plt.figure(figsize=(10, 6))\n",
    "        plt.barh(top_features, top_coefficients, color='skyblue')\n",
    "        if classifier_type == 'SVM':\n",
    "            plt.xlabel('Coefficient Magnitude')\n",
    "        elif classifier_type == 'Random Forest':\n",
    "            plt.xlabel('Feature Importance')\n",
    "        plt.ylabel('Feature')\n",
    "        plt.title('Top {} Predictors ({})'.format(n, classifier_type))\n",
    "        plt.gca().invert_yaxis()\n",
    "        plt.show()\n",
    "    else:\n",
    "        print(\"No top features and coefficients available.\")\n"
   ]
  },
  {
   "cell_type": "code",
   "execution_count": 116,
   "metadata": {},
   "outputs": [
    {
     "data": {
      "image/png": "[encoded data removed]",
      "text/plain": [
       "<Figure size 1000x600 with 1 Axes>"
      ]
     },
     "metadata": {},
     "output_type": "display_data"
    },
    {
     "data": {
      "image/png": "[encoded data removed]",
      "text/plain": [
       "<Figure size 1000x600 with 1 Axes>"
      ]
     },
     "metadata": {},
     "output_type": "display_data"
    }
   ],
   "source": [
    "# Plot top features for SVM classifier\n",
    "top_features_svm, top_coefficients_svm = identify_top_features(svm_classifier, X.columns, n=5, classifier_type='SVM')\n",
    "plot_top_features(top_features_svm, top_coefficients_svm, n=5, classifier_type='SVM')\n",
    "\n",
    "# Plot top features for Random Forest classifier\n",
    "top_features_rf, top_importances_rf = identify_top_features(rf_classifier, X.columns, n=5, classifier_type='Random Forest')\n",
    "plot_top_features(top_features_rf, top_importances_rf, n=5, classifier_type='Random Forest')\n"
   ]
  },
  {
   "cell_type": "markdown",
   "metadata": {},
   "source": [
    "When only choosing a few channels, the most influential ones shoud be chosen. "
   ]
  },
  {
   "cell_type": "markdown",
   "metadata": {},
   "source": [
    "Vizualize relationship"
   ]
  },
  {
   "cell_type": "code",
   "execution_count": 137,
   "metadata": {},
   "outputs": [],
   "source": [
    "def feature_click_counts(top_features, X, clicks_col='Click'):\n",
    "    feature_counts = {}\n",
    "    for feature in top_features:\n",
    "        feature_total_count = X[feature].sum()\n",
    "        non_zero_clicks = X[X[feature] != 0][clicks_col].sum()\n",
    "        click_ratio = non_zero_clicks / feature_total_count if feature_total_count != 0 else 0\n",
    "        feature_counts[feature] = {'Total Count': feature_total_count, 'Clicks': non_zero_clicks, 'Click Ratio': click_ratio}\n",
    "    \n",
    "    feature_counts_df = pd.DataFrame.from_dict(feature_counts, orient='index')\n",
    "    return feature_counts_df\n",
    "\n"
   ]
  },
  {
   "cell_type": "code",
   "execution_count": 140,
   "metadata": {},
   "outputs": [
    {
     "name": "stdout",
     "output_type": "stream",
     "text": [
      "             Total Count  Clicks  Click Ratio\n",
      "Livejournal        16015     584     0.036466\n",
      "Typepad             9558     517     0.054091\n",
      "Wordpress          21769     595     0.027332\n",
      "Blogger            28237     488     0.017282\n",
      "Cnet               19504     646     0.033121\n",
      "               Total Count  Clicks  Click Ratio\n",
      "Thisnext              2019     447     0.221397\n",
      "Lithium                189      39     0.206349\n",
      "Customerlobby            2       2     1.000000\n",
      "Kickapps               442      87     0.196833\n",
      "Mybloglog             3030     402     0.132673\n"
     ]
    }
   ],
   "source": [
    "feature_counts_table_rf = feature_click_counts(top_features_rf, data)\n",
    "\n",
    "# Print the resulting table\n",
    "print(feature_counts_table_rf)\n",
    "\n",
    "feature_counts_table_svm = feature_click_counts(top_features_svm, data)\n",
    "\n",
    "# Print the resulting table\n",
    "print(feature_counts_table_svm)"
   ]
  },
  {
   "cell_type": "markdown",
   "metadata": {},
   "source": [
    "\"Thisnext\" and \"Lithium\" have grat Click Ratio, so they should be selected when financially choosing channels"
   ]
  }
 ],
 "metadata": {
  "kernelspec": {
   "display_name": "base",
   "language": "python",
   "name": "python3"
  },
  "language_info": {
   "codemirror_mode": {
    "name": "ipython",
    "version": 3
   },
   "file_extension": ".py",
   "mimetype": "text/x-python",
   "name": "python",
   "nbconvert_exporter": "python",
   "pygments_lexer": "ipython3",
   "version": "3.11.4"
  }
 },
 "nbformat": 4,
 "nbformat_minor": 2
}
